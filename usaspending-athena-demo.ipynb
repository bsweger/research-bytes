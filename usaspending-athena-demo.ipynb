{
 "cells": [
  {
   "cell_type": "markdown",
   "metadata": {},
   "source": [
    "# AWS Athena: Rows and Columns\n",
    "\n",
    "## Experiment:\n",
    "\n",
    "- Better understand working with \"serverless databases\"\n",
    "- Get some actual data on row-based vs column-based storage\n",
    "\n",
    "Data source: [USAspending.gov download center](https://www.usaspending.gov/#/download_center/custom_award_data)\n",
    "\n",
    "- detailed information about U.S. federal grants, direct payments, loans, and insurance \"obligations\"\n",
    "- U.S. fiscal years 2001 - 2018 (partial)\n",
    "- All federal agencies\n",
    "- ~40.5 million rows\n",
    "- row-based format = uncompressed .csv (19.5 GB)\n",
    "- column-based format = parquet (3 GB)\n",
    "\n",
    "![media/usaspending.png](media/usaspending.png)"
   ]
  },
  {
   "cell_type": "markdown",
   "metadata": {},
   "source": [
    "## Step 1: Put Structured Data on S3\n",
    "\n",
    "Download .csv files about specific grants, direct payments, loans, and insurance \"obligations\" made by the U.S. Federal Government, unzip the files, and upload them to S3. \n",
    "\n",
    "Source: [USAspending.gov download center](https://www.usaspending.gov/#/download_center/custom_award_data)\n",
    "\n",
    "For this demo:\n",
    "\n",
    "- all federal agencies\n",
    "- U.S. fiscal years 2001 - 2018 (partial)\n",
    "- about 19 GB"
   ]
  },
  {
   "cell_type": "code",
   "execution_count": null,
   "metadata": {},
   "outputs": [],
   "source": [
    "!aws s3 ls s3://usaspending-files/awards/assistance/ --summarize --recursive --human-readable"
   ]
  },
  {
   "cell_type": "markdown",
   "metadata": {},
   "source": [
    "## Step 2: Update the Metastore\n",
    "\n",
    "Describe the layout of the .csv Athena\n",
    "\n",
    "```sql\n",
    "CREATE EXTERNAL TABLE IF NOT EXISTS usaspending.assistance (\n",
    "  `award_id_fain` string,\n",
    "  `modification_number` string,\n",
    "  `award_id_uri` string,\n",
    "  `sai_number` string,\n",
    "  `federal_action_obligation` double,\n",
    "  `non_federal_funding_amount` double,\n",
    "  `total_funding_amount` double,\n",
    "  `face_value_of_loan` double,\n",
    "  `original_subsidy_cost` double,\n",
    "  `total_subsidy_cost` double,\n",
    "  `total_loan_value` double,\n",
    "  `action_date` date,\n",
    "  `period_of_performance_start_date` date,\n",
    "  `period_of_performance_current_end_date` date,\n",
    "  `awarding_agency_code` string,\n",
    "  `awarding_agency_name` string,\n",
    "  `awarding_sub_agency_code` string,\n",
    "  `awarding_sub_agency_name` string,\n",
    "  `awarding_office_code` string,\n",
    "  `awarding_office_name` string,\n",
    "  `funding_agency_code` string,\n",
    "  `funding_agency_name` string,\n",
    "  `funding_sub_agency_code` string,\n",
    "  `funding_sub_agency_name` string,\n",
    "  `funding_office_code` string,\n",
    "  `funding_office_name` string,\n",
    "  `recipient_duns` string,\n",
    "  `recipient_name` string,\n",
    "  `recipient_parent_name` string,\n",
    "  `recipient_parent_duns` string,\n",
    "  `recipient_country_code` string,\n",
    "  `recipient_country_name` string,\n",
    "  `recipient_address_line_1` string,\n",
    "  `recipient_address_line_2` string,\n",
    "  `recipient_city_code` string,\n",
    "  `recipient_city_name` string,\n",
    "  `recipient_county_code` string,\n",
    "  `recipient_county_name` string,\n",
    "  `recipient_state_code` string,\n",
    "  `recipient_state_name` string,\n",
    "  `recipient_zip_code` string,\n",
    "  `recipient_zip_last_4_code` string,\n",
    "  `recipient_congressional_district` string,\n",
    "  `recipient_foreign_city_name` string,\n",
    "  `recipient_foreign_province_name` string,\n",
    "  `recipient_foreign_postal_code` string,\n",
    "  `primary_place_of_performance_country_code` string,\n",
    "  `primary_place_of_performance_country_name` string,\n",
    "  `primary_place_of_performance_code` string,\n",
    "  `primary_place_of_performance_city_name` string,\n",
    "  `primary_place_of_performance_county_code` string,\n",
    "  `primary_place_of_performance_county_name` string,\n",
    "  `primary_place_of_performance_state_name` string,\n",
    "  `primary_place_of_performance_zip_4` string,\n",
    "  `primary_place_of_performance_congressional_district` string,\n",
    "  `primary_place_of_performance_foreign_location` string,\n",
    "  `cfda_number` string,\n",
    "  `cfda_title` string,\n",
    "  `assistance_type_code` string,\n",
    "  `assistance_type_description` string,\n",
    "  `award_description` string,\n",
    "  `business_funds_indicator_code` string,\n",
    "  `business_funds_indicator_description` string,\n",
    "  `business_types_code` string,\n",
    "  `business_types_description` string,\n",
    "  `correction_delete_indicator_code` string,\n",
    "  `correction_delete_indicator_description` string,\n",
    "  `action_type_code` string,\n",
    "  `action_type_description` string,\n",
    "  `record_type_code` string,\n",
    "  `record_type_description` string,\n",
    "  `last_modified_date` timestamp \n",
    ")\n",
    "ROW FORMAT SERDE 'org.apache.hadoop.hive.serde2.lazy.LazySimpleSerDe'\n",
    "WITH SERDEPROPERTIES (\n",
    "  'serialization.format' = ',',\n",
    "  'field.delim' = ','\n",
    ") LOCATION 's3://usaspending-files/awards/assistance/'\n",
    "TBLPROPERTIES ('has_encrypted_data'='false', 'skip.header.line.count'='1');\n",
    "```"
   ]
  },
  {
   "cell_type": "markdown",
   "metadata": {},
   "source": [
    "## Step 3: Create a Parquet-Based Version of the Table\n",
    "\n",
    "[Apache Parquet](https://parquet.apache.org/) is a columnar storage format.\n",
    "\n",
    "To see how switching to a column-based format can impact amount of data read, create a second Athena table. Same data, but this one will sit on top of a Parquet version of the data.\n",
    "\n",
    "(note: h/t [this post](https://medium.com/searce/convert-csv-json-files-to-apache-parquet-using-aws-glue-a760d177b45f) on using AWS Glue to convert .csv data to Parquet."
   ]
  },
  {
   "cell_type": "code",
   "execution_count": null,
   "metadata": {},
   "outputs": [],
   "source": [
    "!aws s3 ls s3://usaspending-files/awards-parquet/assistance/ --summarize --recursive --human-readable"
   ]
  },
  {
   "cell_type": "markdown",
   "metadata": {},
   "source": [
    "## Demo Query\n",
    "Get some information about U.S. Federal grants\n",
    "\n",
    "Total award amounts summarized by:\n",
    "\n",
    "- year\n",
    "- name of award recipient\n",
    "- program title\n",
    "\n",
    "\n",
    "```sql\n",
    "SELECT\n",
    "  date_format(date_parse(action_date, '%Y-%m-%d'), '%Y') as year,\n",
    "  -- date_format(action_date, '%Y') as year,\n",
    "  recipient_name as recipient,\n",
    "  cfda_title as program,\n",
    "  SUM(federal_action_obligation) AS total\n",
    "FROM\n",
    "  usaspending.assistance_parquet\n",
    "WHERE (\n",
    "  recipient_name IN ('SETI INSTITUTE', 'UNIVERSITY OF MASSACHUSETTS')\n",
    "  OR recipient_city_name IN ('AMHERST', 'NORTHAMPTON'))\n",
    "GROUP BY 1, 2, 3\n",
    "ORDER BY 1, 2, 3\n",
    "```\n",
    "\n",
    "## Results:\n",
    "\n",
    "* Table based on .csv: scanned 19.52 GB\n",
    "* Tasble based on parquet: scanned 469 MB\n",
    "\n",
    "## Thoughts and Caveats\n",
    "\n",
    "* This wasn't a totally fair comparison b/c the .csvs weren't compressed or partitioned\n",
    "* This type of experiment doesn't reflect production-level considerations:  \n",
    "    * less flexible updates\n",
    "    * schema-on-write vs schema-on-read\n",
    "    * compacting partitions\n",
    "    * separation storage and compute = more moving parts\n",
    "\n",
    "As always, before adopting, would be important to understand what you're solving for and consider the trade-offs. \n"
   ]
  },
  {
   "cell_type": "markdown",
   "metadata": {},
   "source": [
    "## Connect to Athena via Python"
   ]
  },
  {
   "cell_type": "code",
   "execution_count": 7,
   "metadata": {},
   "outputs": [
    {
     "name": "stdout",
     "output_type": "stream",
     "text": [
      "[('award_id_fain', 'VARCHAR', 255, None, 255, 0, 1), ('modification_number', 'VARCHAR', 255, None, 255, 0, 1), ('award_id_uri', 'VARCHAR', 255, None, 255, 0, 1), ('sai_number', 'VARCHAR', 255, None, 255, 0, 1), ('federal_action_obligation', 'DOUBLE', 24, None, 53, 0, 1), ('non_federal_funding_amount', 'DOUBLE', 24, None, 53, 0, 1), ('total_funding_amount', 'DOUBLE', 24, None, 53, 0, 1), ('face_value_of_loan', 'DOUBLE', 24, None, 53, 0, 1), ('original_subsidy_cost', 'DOUBLE', 24, None, 53, 0, 1), ('total_subsidy_cost', 'DOUBLE', 24, None, 53, 0, 1), ('total_loan_value', 'DOUBLE', 24, None, 53, 0, 1), ('action_date', 'DATE', 10, None, 10, 0, 1), ('period_of_performance_start_date', 'DATE', 10, None, 10, 0, 1), ('period_of_performance_current_end_date', 'DATE', 10, None, 10, 0, 1), ('awarding_agency_code', 'VARCHAR', 255, None, 255, 0, 1), ('awarding_agency_name', 'VARCHAR', 255, None, 255, 0, 1), ('awarding_sub_agency_code', 'VARCHAR', 255, None, 255, 0, 1), ('awarding_sub_agency_name', 'VARCHAR', 255, None, 255, 0, 1), ('awarding_office_code', 'VARCHAR', 255, None, 255, 0, 1), ('awarding_office_name', 'VARCHAR', 255, None, 255, 0, 1), ('funding_agency_code', 'VARCHAR', 255, None, 255, 0, 1), ('funding_agency_name', 'VARCHAR', 255, None, 255, 0, 1), ('funding_sub_agency_code', 'VARCHAR', 255, None, 255, 0, 1), ('funding_sub_agency_name', 'VARCHAR', 255, None, 255, 0, 1), ('funding_office_code', 'VARCHAR', 255, None, 255, 0, 1), ('funding_office_name', 'VARCHAR', 255, None, 255, 0, 1), ('recipient_duns', 'VARCHAR', 255, None, 255, 0, 1), ('recipient_name', 'VARCHAR', 255, None, 255, 0, 1), ('recipient_parent_name', 'VARCHAR', 255, None, 255, 0, 1), ('recipient_parent_duns', 'VARCHAR', 255, None, 255, 0, 1), ('recipient_country_code', 'VARCHAR', 255, None, 255, 0, 1), ('recipient_country_name', 'VARCHAR', 255, None, 255, 0, 1), ('recipient_address_line_1', 'VARCHAR', 255, None, 255, 0, 1), ('recipient_address_line_2', 'VARCHAR', 255, None, 255, 0, 1), ('recipient_city_code', 'VARCHAR', 255, None, 255, 0, 1), ('recipient_city_name', 'VARCHAR', 255, None, 255, 0, 1), ('recipient_county_code', 'VARCHAR', 255, None, 255, 0, 1), ('recipient_county_name', 'VARCHAR', 255, None, 255, 0, 1), ('recipient_state_code', 'VARCHAR', 255, None, 255, 0, 1), ('recipient_state_name', 'VARCHAR', 255, None, 255, 0, 1), ('recipient_zip_code', 'VARCHAR', 255, None, 255, 0, 1), ('recipient_zip_last_4_code', 'VARCHAR', 255, None, 255, 0, 1), ('recipient_congressional_district', 'VARCHAR', 255, None, 255, 0, 1), ('recipient_foreign_city_name', 'VARCHAR', 255, None, 255, 0, 1), ('recipient_foreign_province_name', 'VARCHAR', 255, None, 255, 0, 1), ('recipient_foreign_postal_code', 'VARCHAR', 255, None, 255, 0, 1), ('primary_place_of_performance_country_code', 'VARCHAR', 255, None, 255, 0, 1), ('primary_place_of_performance_country_name', 'VARCHAR', 255, None, 255, 0, 1), ('primary_place_of_performance_code', 'VARCHAR', 255, None, 255, 0, 1), ('primary_place_of_performance_city_name', 'VARCHAR', 255, None, 255, 0, 1), ('primary_place_of_performance_county_code', 'VARCHAR', 255, None, 255, 0, 1), ('primary_place_of_performance_county_name', 'VARCHAR', 255, None, 255, 0, 1), ('primary_place_of_performance_state_name', 'VARCHAR', 255, None, 255, 0, 1), ('primary_place_of_performance_zip_4', 'VARCHAR', 255, None, 255, 0, 1), ('primary_place_of_performance_congressional_district', 'VARCHAR', 255, None, 255, 0, 1), ('primary_place_of_performance_foreign_location', 'VARCHAR', 255, None, 255, 0, 1), ('cfda_number', 'VARCHAR', 255, None, 255, 0, 1), ('cfda_title', 'VARCHAR', 255, None, 255, 0, 1), ('assistance_type_code', 'VARCHAR', 255, None, 255, 0, 1), ('assistance_type_description', 'VARCHAR', 255, None, 255, 0, 1), ('award_description', 'VARCHAR', 255, None, 255, 0, 1), ('business_funds_indicator_code', 'VARCHAR', 255, None, 255, 0, 1), ('business_funds_indicator_description', 'VARCHAR', 255, None, 255, 0, 1), ('business_types_code', 'VARCHAR', 255, None, 255, 0, 1), ('business_types_description', 'VARCHAR', 255, None, 255, 0, 1), ('correction_delete_indicator_code', 'VARCHAR', 255, None, 255, 0, 1), ('correction_delete_indicator_description', 'VARCHAR', 255, None, 255, 0, 1), ('action_type_code', 'VARCHAR', 255, None, 255, 0, 1), ('action_type_description', 'VARCHAR', 255, None, 255, 0, 1), ('record_type_code', 'VARCHAR', 255, None, 255, 0, 1), ('record_type_description', 'VARCHAR', 255, None, 255, 0, 1), ('last_modified_date', 'TIMESTAMP', 23, None, 23, 6, 1)]\n",
      "[('VAVBA911EDUCJAN2', '015', '6402820150102770', 'SAI EXEMPT', 137211.0, 0.0, 137211.0, 0.0, None, 0.0, None, datetime.date(2015, 1, 28), None, None, '036', 'DEPARTMENT OF VETERANS AFFAIRS (VA)', '3640', 'UNDER SECRETARY FOR BENEFITS/VETERANS BENEFITS ADMINISTRATION', '', '', '', '', '', '', '', '', '', 'MULTIPLE RECIPIENTS', '', '', '', '', '', '', '', '', '157.0', 'ROCKINGHAM', 'NC', 'NORTH CAROLINA', '', '', '06', '', '', '', '', '', '37157**', '', '', '', 'NORTH CAROLINA', '', '', '', '64.028', 'POST-9/11 VETERANS EDUCATIONAL ASSISTANCE', '10', '', '', 'NON', '', '21', '', '', '', '', '', '1', '', datetime.datetime(2015, 2, 24, 0, 0)), ('VAVBA911EDUCJAN2', '015', '6402820150103169', 'SAI EXEMPT', 48245.0, 0.0, 48245.0, 0.0, None, 0.0, None, datetime.date(2015, 1, 28), None, None, '036', 'DEPARTMENT OF VETERANS AFFAIRS (VA)', '3640', 'UNDER SECRETARY FOR BENEFITS/VETERANS BENEFITS ADMINISTRATION', '', '', '', '', '', '', '', '', '', 'MULTIPLE RECIPIENTS', '', '', '', '', '', '', '', '', '39.0', 'FAIRFIELD', 'SC', 'SOUTH CAROLINA', '', '', '05', '', '', '', '', '', '45039**', '', '', '', 'SOUTH CAROLINA', '', '', '', '64.028', 'POST-9/11 VETERANS EDUCATIONAL ASSISTANCE', '10', '', '', 'NON', '', '21', '', '', '', '', '', '1', '', datetime.datetime(2015, 2, 24, 0, 0)), ('VAVBAHOUSLOANJAN', '2015', '6411420150102313', 'SAI EXEMPT', 0.0, 0.0, 0.0, 61128.0, 503.0, 503.0, 61128.0, datetime.date(2015, 1, 28), None, None, '036', 'DEPARTMENT OF VETERANS AFFAIRS (VA)', '3640', 'UNDER SECRETARY FOR BENEFITS/VETERANS BENEFITS ADMINISTRATION', '', '', '', '', '', '', '', '', '', 'MULTIPLE RECIPIENTS', '', '', '', '', '', '', '', '', '181.0', 'RIPLEY', 'MO', 'MISSOURI', '', '', '08', '', '', '', '', '', '29181**', '', '', '', 'MISSOURI', '', '', '', '64.114', 'VETERANS HOUSING_GUARANTEED AND INSURED LOANS', '08', '', '', 'NON', '', '21', '', '', '', '', '', '1', '', datetime.datetime(2015, 2, 23, 0, 0)), ('P063P142088', '0065', '', 'SAI NOT AVAILABLE', 6447.0, 0.0, 6447.0, 0.0, None, 0.0, None, datetime.date(2015, 1, 28), datetime.date(2014, 3, 23), datetime.date(2020, 8, 31), '091', 'DEPARTMENT OF EDUCATION (ED)', '9100', 'DEPARTMENT OF EDUCATION', '', '', '', '', '', '', '', '', '020066932', 'CHESTNUT HILL COLLEGE', 'CHESTNUT HILL COLLEGE', '020066932', 'USA', 'UNITED STATES', '9601 GERMANTOWN AVE', '', '60000', 'PHILADELPHIA', '101', 'PHILADELPHIA', 'PA', 'PENNSYLVANIA', '19118', '2643', '02', '', '', '', 'USA', 'UNITED STATES', '4260000', 'PHILADELPHIA', '101', 'PHILADELPHIA', 'PENNSYLVANIA', '191182643', '02', '', '84.063', 'FEDERAL PELL GRANT PROGRAM', '06', '', 'GRANT PROGRAM', 'NON', '', '20', '', '', '', 'C', '', '2', '', datetime.datetime(2015, 2, 9, 0, 0)), ('VAVBASURVPENSJAN', '2015', '6410520150107476', 'SAI EXEMPT', 12074.0, 0.0, 12074.0, 0.0, None, 0.0, None, datetime.date(2015, 1, 28), None, None, '036', 'DEPARTMENT OF VETERANS AFFAIRS (VA)', '3640', 'UNDER SECRETARY FOR BENEFITS/VETERANS BENEFITS ADMINISTRATION', '', '', '', '', '', '', '', '', '', 'MULTIPLE RECIPIENTS', '', '', '', '', '', '', '', '', '107.0', 'PANOLA', 'MS', 'MISSISSIPPI', '', '', '02', '', '', '', '', '', '28107**', '', '', '', 'MISSISSIPPI', '', '', '', '64.105', '\"PENSION TO VETERANS SURVIVING SPOUSES', ' AND CHILDREN\"', '10', '', '', 'NON', '', '21', '', '', '', '', '', '1', None), ('F32GM113334', '002', '75-127-F32GM113334-002-1-2015-93859-75-0851-NON', 'SAI UNAVAILABLE', 0.0, 0.0, 0.0, 0.0, None, 0.0, None, datetime.date(2015, 1, 28), datetime.date(2015, 1, 7), datetime.date(2018, 1, 6), '075', 'DEPARTMENT OF HEALTH AND HUMAN SERVICES (HHS)', '7529', 'NATIONAL INSTITUTES OF HEALTH', '', '', '', '', '', '', '', '', '009584210', 'CALIFORNIA INSTITUTE OF TECHNOLOGY', 'CALIFORNIA INSTITUTE OF TECHNOLOGY', '009584210', 'USA', 'UNITED STATES', '1200 E CALIFORNIA BLVD', '', '56000', 'PASADENA', '037', 'LOS ANGELES', 'CA', 'CALIFORNIA', '91125', '0001', '29', '', '', '', 'USA', 'UNITED STATES', '0656000', 'PASADENA', '037', 'LOS ANGELES', 'CALIFORNIA', '911250001', '29', '', '93.859', 'BIOMEDICAL RESEARCH AND RESEARCH TRAINING', '04', '', 'PREDICTING INTEGRAL MEMBRANE PROTEIN EXPRESSION FROM MULTISCALE SIMULATION MODEL OF TRANSLOCON-MEDIATED MEMBRANE INTEGRATION', 'NON', '', '12', '', 'C', '', 'A', '', '2', '', datetime.datetime(2015, 11, 20, 0, 0)), ('VAVBAALLVOLUJAN2', '015', '6412420150101221', 'SAI EXEMPT', 30344.0, 0.0, 30344.0, 0.0, None, 0.0, None, datetime.date(2015, 1, 28), None, None, '036', 'DEPARTMENT OF VETERANS AFFAIRS (VA)', '3640', 'UNDER SECRETARY FOR BENEFITS/VETERANS BENEFITS ADMINISTRATION', '', '', '', '', '', '', '', '', '', 'MULTIPLE RECIPIENTS', '', '', '', '', '', '', '', '', '73.0', 'JEFFERSON', 'AL', 'ALABAMA', '', '', '', '', '', '', '', '', '01073**', '', '', '', 'ALABAMA', '', '', '', '64.124', 'ALL-VOLUNTEER FORCE EDUCATIONAL ASSISTANCE', '10', '', '', 'NON', '', '21', '', '', '', '', '', '1', '', datetime.datetime(2015, 2, 25, 0, 0)), ('VAVBAHOUSLOANJAN', '2015', '6411420150101174', 'SAI EXEMPT', 0.0, 0.0, 0.0, 39047.0, 422.0, 422.0, 39047.0, datetime.date(2015, 1, 28), None, None, '036', 'DEPARTMENT OF VETERANS AFFAIRS (VA)', '3640', 'UNDER SECRETARY FOR BENEFITS/VETERANS BENEFITS ADMINISTRATION', '', '', '', '', '', '', '', '', '', 'MULTIPLE RECIPIENTS', '', '', '', '', '', '', '', '', '29.0', 'CHARLEVOIX', 'MI', 'MICHIGAN', '', '', '01', '', '', '', '', '', '26029**', '', '', '', 'MICHIGAN', '', '', '', '64.114', 'VETERANS HOUSING_GUARANTEED AND INSURED LOANS', '08', '', '', 'NON', '', '21', '', '', '', '', '', '1', '', datetime.datetime(2015, 2, 23, 0, 0)), ('VAVBAHOUSLOANJAN', '2015', '6411420150102101', 'SAI EXEMPT', 0.0, 0.0, 0.0, 72000.0, 656.0, 656.0, 72000.0, datetime.date(2015, 1, 28), None, None, '036', 'DEPARTMENT OF VETERANS AFFAIRS (VA)', '3640', 'UNDER SECRETARY FOR BENEFITS/VETERANS BENEFITS ADMINISTRATION', '', '', '', '', '', '', '', '', '', 'MULTIPLE RECIPIENTS', '', '', '', '', '', '', '', '', '231.0', 'PIKE', 'GA', 'GEORGIA', '', '', '03', '', '', '', '', '', '13231**', '', '', '', 'GEORGIA', '', '', '', '64.114', 'VETERANS HOUSING_GUARANTEED AND INSURED LOANS', '08', '', '', 'NON', '', '21', '', '', '', '', '', '1', '', datetime.datetime(2015, 2, 23, 0, 0)), ('VAVBAALLVOLUJAN2', '015', '6412420150100776', 'SAI EXEMPT', 2946.0, 0.0, 2946.0, 0.0, None, 0.0, None, datetime.date(2015, 1, 28), None, None, '036', 'DEPARTMENT OF VETERANS AFFAIRS (VA)', '3640', 'UNDER SECRETARY FOR BENEFITS/VETERANS BENEFITS ADMINISTRATION', '', '', '', '', '', '', '', '', '', 'MULTIPLE RECIPIENTS', '', '', '', '', '', '', '', '', '37.0', 'KITTITAS', 'WA', 'WASHINGTON', '', '', '08', '', '', '', '', '', '53037**', '', '', '', 'WASHINGTON', '', '', '', '64.124', 'ALL-VOLUNTEER FORCE EDUCATIONAL ASSISTANCE', '10', '', '', 'NON', '', '21', '', '', '', '', '', '1', '', datetime.datetime(2015, 2, 25, 0, 0))]\n"
     ]
    }
   ],
   "source": [
    "from pyathenajdbc import connect\n",
    "\n",
    "conn = connect(\n",
    "    s3_staging_dir='s3://aws-athena-query-results-521138137878-us-east-2/',\n",
    "    region_name='us-east-2'\n",
    ")\n",
    "\n",
    "try:\n",
    "    with conn.cursor() as cursor:\n",
    "        cursor.execute(\"\"\"SELECT * FROM usaspending.assistance LIMIT 10\"\"\")\n",
    "        print(cursor.description)\n",
    "        print(cursor.fetchall())\n",
    "finally:\n",
    "    conn.close()"
   ]
  },
  {
   "cell_type": "markdown",
   "metadata": {},
   "source": [
    "## Athena Results to Pandas DataFrame"
   ]
  },
  {
   "cell_type": "code",
   "execution_count": 12,
   "metadata": {},
   "outputs": [
    {
     "name": "stdout",
     "output_type": "stream",
     "text": [
      "       federal_action_obligation  non_federal_funding_amount  \\\n",
      "count               1.000000e+01                   10.000000   \n",
      "mean                6.821878e+05                15737.900000   \n",
      "std                 1.736623e+06                49767.609588   \n",
      "min                -1.923400e+04                    0.000000   \n",
      "25%                 2.029250e+03                    0.000000   \n",
      "50%                 2.456200e+04                    0.000000   \n",
      "75%                 4.051562e+05                    0.000000   \n",
      "max                 5.585358e+06               157379.000000   \n",
      "\n",
      "       total_funding_amount  face_value_of_loan  original_subsidy_cost  \\\n",
      "count          1.000000e+01        1.000000e+01                    2.0   \n",
      "mean           6.979257e+05        1.901000e+05                    0.0   \n",
      "std            1.735501e+06        5.837923e+05                    0.0   \n",
      "min           -1.923400e+04        0.000000e+00                    0.0   \n",
      "25%            2.029250e+03        0.000000e+00                    0.0   \n",
      "50%            2.456200e+04        0.000000e+00                    0.0   \n",
      "75%            4.635722e+05        0.000000e+00                    0.0   \n",
      "max            5.585358e+06        1.851000e+06                    0.0   \n",
      "\n",
      "       total_subsidy_cost  total_loan_value  \n",
      "count                 7.0      3.000000e+00  \n",
      "mean                  0.0      6.170000e+05  \n",
      "std                   0.0      1.068675e+06  \n",
      "min                   0.0      0.000000e+00  \n",
      "25%                   0.0      0.000000e+00  \n",
      "50%                   0.0      0.000000e+00  \n",
      "75%                   0.0      9.255000e+05  \n",
      "max                   0.0      1.851000e+06  \n"
     ]
    }
   ],
   "source": [
    "import contextlib\n",
    "from pyathenajdbc import connect\n",
    "from pyathenajdbc.util import as_pandas\n",
    "\n",
    "with contextlib.closing(\n",
    "    connect(s3_staging_dir='s3://aws-athena-query-results-521138137878-us-east-2/',\n",
    "        region_name='us-east-2')) as conn:\n",
    "    with conn.cursor() as cursor:\n",
    "        cursor.execute(\"\"\"\n",
    "        SELECT * FROM usaspending.assistance LIMIT 10\n",
    "        \"\"\")\n",
    "        df = as_pandas(cursor)\n",
    "print(df.describe())\n"
   ]
  }
 ],
 "metadata": {
  "kernelspec": {
   "display_name": "Python 3",
   "language": "python",
   "name": "python3"
  },
  "language_info": {
   "codemirror_mode": {
    "name": "ipython",
    "version": 3
   },
   "file_extension": ".py",
   "mimetype": "text/x-python",
   "name": "python",
   "nbconvert_exporter": "python",
   "pygments_lexer": "ipython3",
   "version": "3.6.5"
  }
 },
 "nbformat": 4,
 "nbformat_minor": 2
}
